{
 "cells": [
  {
   "attachments": {},
   "cell_type": "markdown",
   "metadata": {},
   "source": [
    "## Flujos de Control"
   ]
  },
  {
   "attachments": {},
   "cell_type": "markdown",
   "metadata": {},
   "source": [
    "1) Crear una variable que contenga un elemento del conjunto de números enteros y luego imprimir por pantalla si es mayor o menor a cero"
   ]
  },
  {
   "cell_type": "code",
   "execution_count": 26,
   "metadata": {},
   "outputs": [
    {
     "name": "stdout",
     "output_type": "stream",
     "text": [
      "Es mayor a cero\n"
     ]
    }
   ],
   "source": [
    "var1 = 5\n",
    "if var1 > 0:\n",
    "    print(\"Es mayor a cero\")\n",
    "elif var1 < 0 :\n",
    "    print(\"Es menor a cero\")\n",
    "else:\n",
    "    print(\"Es igual a cero\")"
   ]
  },
  {
   "attachments": {},
   "cell_type": "markdown",
   "metadata": {},
   "source": [
    "2) Crear dos variables y un condicional que informe si son del mismo tipo de dato"
   ]
  },
  {
   "cell_type": "code",
   "execution_count": 27,
   "metadata": {},
   "outputs": [
    {
     "name": "stdout",
     "output_type": "stream",
     "text": [
      "No son del mismo tipo\n"
     ]
    }
   ],
   "source": [
    "var2 = 3\n",
    "var3 = \"string\"\n",
    "if (type(var2) == type(var3)):\n",
    "    print(\"Son del mismo tipo\")\n",
    "else:\n",
    "    print(\"No son del mismo tipo\")"
   ]
  },
  {
   "attachments": {},
   "cell_type": "markdown",
   "metadata": {},
   "source": [
    "3) Para los valores enteros del 1 al 20, imprimir por pantalla si es par o impar"
   ]
  },
  {
   "cell_type": "code",
   "execution_count": 28,
   "metadata": {},
   "outputs": [
    {
     "name": "stdout",
     "output_type": "stream",
     "text": [
      "1  es impar\n",
      "2  es par\n",
      "3  es impar\n",
      "4  es par\n",
      "5  es impar\n",
      "6  es par\n",
      "7  es impar\n",
      "8  es par\n",
      "9  es impar\n",
      "10  es par\n",
      "11  es impar\n",
      "12  es par\n",
      "13  es impar\n",
      "14  es par\n",
      "15  es impar\n",
      "16  es par\n",
      "17  es impar\n",
      "18  es par\n",
      "19  es impar\n",
      "20  es par\n"
     ]
    }
   ],
   "source": [
    "for var5 in range(1,21):\n",
    "    if (var5 % 2 == 0):\n",
    "        print(var5, \" es par\")\n",
    "    else:\n",
    "        print(var5, \" es impar\")"
   ]
  },
  {
   "attachments": {},
   "cell_type": "markdown",
   "metadata": {},
   "source": [
    "4) En un ciclo for mostrar para los valores entre 0 y 5 el resultado de elevarlo a la potencia igual a 3"
   ]
  },
  {
   "cell_type": "code",
   "execution_count": 29,
   "metadata": {},
   "outputs": [
    {
     "name": "stdout",
     "output_type": "stream",
     "text": [
      "0  elevado a la potencia de 3:  0\n",
      "1  elevado a la potencia de 3:  1\n",
      "2  elevado a la potencia de 3:  8\n",
      "3  elevado a la potencia de 3:  27\n",
      "4  elevado a la potencia de 3:  64\n",
      "5  elevado a la potencia de 3:  125\n"
     ]
    }
   ],
   "source": [
    "for var6 in range(0,6):\n",
    "    print(var6,\" elevado a la potencia de 3: \",var6 ** 3)"
   ]
  },
  {
   "attachments": {},
   "cell_type": "markdown",
   "metadata": {},
   "source": [
    "5) Crear una variable que contenga un número entero y realizar un ciclo for la misma cantidad de ciclos"
   ]
  },
  {
   "cell_type": "code",
   "execution_count": 30,
   "metadata": {},
   "outputs": [
    {
     "name": "stdout",
     "output_type": "stream",
     "text": [
      "7\n"
     ]
    }
   ],
   "source": [
    "var7 = 8\n",
    "for var8 in range(0,var7):\n",
    "    pass\n",
    "print(var8)"
   ]
  },
  {
   "attachments": {},
   "cell_type": "markdown",
   "metadata": {},
   "source": [
    "6) Utilizar un ciclo while para realizar el factorial de un número guardado en una variable, sólo si la variable contiene un número entero mayor a 0"
   ]
  },
  {
   "cell_type": "code",
   "execution_count": 31,
   "metadata": {},
   "outputs": [
    {
     "name": "stdout",
     "output_type": "stream",
     "text": [
      "Factorial de  7\n",
      "    7\n",
      " x  6\n",
      " x  5\n",
      " x  4\n",
      " x  3\n",
      " x  2\n",
      " =  5040\n"
     ]
    }
   ],
   "source": [
    "var9 = 7\n",
    "if (type(var9) == int):\n",
    "    if (var9 > 0):\n",
    "        factorial = var9\n",
    "        print(\"Factorial de \",var9)\n",
    "        print(\"   \",var9)\n",
    "        while (var9 > 2):\n",
    "            var9 = var9 -1 \n",
    "            factorial = factorial * var9\n",
    "            print(\" x \",var9)\n",
    "        print(\" = \",factorial)    \n",
    "    else:\n",
    "        print(\"El número no es positivo.\")\n",
    "else:\n",
    "    print(\"El nro. no es entero.\")           \n"
   ]
  },
  {
   "attachments": {},
   "cell_type": "markdown",
   "metadata": {},
   "source": [
    "7) Crear un ciclo for dentro de un ciclo while"
   ]
  },
  {
   "cell_type": "code",
   "execution_count": 36,
   "metadata": {},
   "outputs": [
    {
     "name": "stdout",
     "output_type": "stream",
     "text": [
      "1\n",
      "0\n",
      "2\n",
      "1\n",
      "0\n",
      "3\n",
      "2\n",
      "1\n",
      "0\n",
      "4\n",
      "3\n",
      "2\n",
      "1\n",
      "0\n"
     ]
    }
   ],
   "source": [
    "var10 = 1\n",
    "while (var10 < 5):\n",
    "    var11 = var10\n",
    "    print(var10)\n",
    "    for var12 in range(0,var11):\n",
    "        var11 = var11 - 1\n",
    "        print(var11)\n",
    "    var10 = var10 +1"
   ]
  },
  {
   "attachments": {},
   "cell_type": "markdown",
   "metadata": {},
   "source": [
    "8) Crear un ciclo while dentro de un ciclo for"
   ]
  },
  {
   "cell_type": "code",
   "execution_count": null,
   "metadata": {},
   "outputs": [
    {
     "name": "stdout",
     "output_type": "stream",
     "text": [
      "1\n",
      "0\n",
      "2\n",
      "1\n",
      "0\n",
      "3\n",
      "2\n",
      "1\n",
      "0\n"
     ]
    }
   ],
   "source": [
    "for var12 in range(1,4):\n",
    "    var13 = var12\n",
    "    print(var12)\n",
    "    while (var13 > 0):\n",
    "        var13 = var13 - 1\n",
    "        print(var13)     \n"
   ]
  },
  {
   "attachments": {},
   "cell_type": "markdown",
   "metadata": {},
   "source": [
    "9) Imprimir los números primos existentes entre 0 y 30"
   ]
  },
  {
   "cell_type": "code",
   "execution_count": 18,
   "metadata": {},
   "outputs": [
    {
     "name": "stdout",
     "output_type": "stream",
     "text": [
      "0  es primo\n",
      "1  es primo\n",
      "2  es primo\n",
      "3  es primo\n",
      "5  es primo\n",
      "7  es primo\n",
      "11  es primo\n",
      "13  es primo\n",
      "17  es primo\n",
      "19  es primo\n",
      "23  es primo\n",
      "29  es primo\n"
     ]
    }
   ],
   "source": [
    "for var14 in range(0,30):\n",
    "    primo = True\n",
    "    var15 = 2\n",
    "    while ((var15 <= var14) and (primo == True)):\n",
    "        if ((var14 != var15) and (var14 % var15 == 0)):\n",
    "            primo = False\n",
    "        var15 += 1\n",
    "    if primo:\n",
    "        print(var14,\" es primo\")\n"
   ]
  },
  {
   "attachments": {},
   "cell_type": "markdown",
   "metadata": {},
   "source": [
    "10) ¿Se puede mejorar el proceso del punto 9? Utilizar las sentencias break y/ó continue para tal fin"
   ]
  },
  {
   "cell_type": "code",
   "execution_count": 6,
   "metadata": {},
   "outputs": [
    {
     "name": "stdout",
     "output_type": "stream",
     "text": [
      "0  es primo\n",
      "1  es primo\n",
      "2  es primo\n",
      "3  es primo\n",
      "5  es primo\n",
      "7  es primo\n",
      "11  es primo\n",
      "13  es primo\n",
      "17  es primo\n",
      "19  es primo\n",
      "23  es primo\n",
      "29  es primo\n",
      "127\n"
     ]
    }
   ],
   "source": [
    "ciclos = 1\n",
    "for var14 in range(0,30):\n",
    "    primo = True\n",
    "    var15 = 2\n",
    "    while (var15 <= var14):\n",
    "        if ((var14 != var15) and (var14 % var15 == 0)):\n",
    "            primo = False\n",
    "            break\n",
    "        var15 += 1\n",
    "        ciclos += 1\n",
    "    if primo:\n",
    "        print(var14,\" es primo\")\n",
    "\n",
    "print(ciclos)\n"
   ]
  },
  {
   "attachments": {},
   "cell_type": "markdown",
   "metadata": {},
   "source": [
    "11) En los puntos 9 y 10, se diseño un código que encuentra números primos y además se lo optimizó. ¿Es posible saber en qué medida se optimizó?"
   ]
  },
  {
   "cell_type": "code",
   "execution_count": 5,
   "metadata": {},
   "outputs": [
    {
     "name": "stdout",
     "output_type": "stream",
     "text": [
      "0  es primo\n",
      "1  es primo\n",
      "2  es primo\n",
      "3  es primo\n",
      "5  es primo\n",
      "7  es primo\n",
      "11  es primo\n",
      "13  es primo\n",
      "17  es primo\n",
      "19  es primo\n",
      "23  es primo\n",
      "29  es primo\n",
      "145\n"
     ]
    }
   ],
   "source": [
    "ciclos = 1\n",
    "for var14 in range(0,30):\n",
    "    primo = True\n",
    "    var15 = 2\n",
    "    while ((var15 <= var14) and (primo == True)):\n",
    "        if ((var14 != var15) and (var14 % var15 == 0)):\n",
    "            primo = False\n",
    "        var15 += 1\n",
    "        ciclos += 1\n",
    "    if primo:\n",
    "        print(var14,\" es primo\")\n",
    " \n",
    "print(ciclos)\n",
    "\n",
    "# tanto con break o sin break obtengo 145 ciclos porque en el punto 8 uso la variable PRIMO para controlar la salida del ciclo\n"
   ]
  },
  {
   "attachments": {},
   "cell_type": "markdown",
   "metadata": {},
   "source": [
    "12) Aplicando continue, armar un ciclo while que solo imprima los valores divisibles por 12, dentro del rango de números de 100 a 300"
   ]
  },
  {
   "cell_type": "code",
   "execution_count": 8,
   "metadata": {},
   "outputs": [
    {
     "name": "stdout",
     "output_type": "stream",
     "text": [
      "204\n",
      "216\n",
      "228\n",
      "240\n",
      "252\n",
      "264\n",
      "276\n",
      "288\n",
      "300\n"
     ]
    }
   ],
   "source": [
    "var16 = 200\n",
    "while (var16 <= 300):\n",
    "    if (var16 % 12 == 0):\n",
    "        print(var16)        \n",
    "    var16 += 1 "
   ]
  },
  {
   "attachments": {},
   "cell_type": "markdown",
   "metadata": {},
   "source": [
    "13) Utilizar la función **input()** que permite hacer ingresos por teclado, para encontrar números primos y dar la opción al usario de buscar el siguiente"
   ]
  },
  {
   "cell_type": "code",
   "execution_count": 3,
   "metadata": {},
   "outputs": [
    {
     "name": "stdout",
     "output_type": "stream",
     "text": [
      "1\n",
      "¿Desea encontrar el siguiente número primo?\n",
      "2\n",
      "¿Desea encontrar el siguiente número primo?\n",
      "3\n",
      "¿Desea encontrar el siguiente número primo?\n",
      "5\n",
      "¿Desea encontrar el siguiente número primo?\n",
      "7\n",
      "¿Desea encontrar el siguiente número primo?\n",
      "Se finaliza el proceso\n"
     ]
    }
   ],
   "source": [
    "n = 1\n",
    "sigue = 1\n",
    "primo = True\n",
    "while (sigue == 1):\n",
    "    for div in range(2, n):\n",
    "        if (n % div == 0):\n",
    "            primo = False\n",
    "            break\n",
    "    if (primo):\n",
    "        print(n)\n",
    "        print('¿Desea encontrar el siguiente número primo?')\n",
    "        if (input() != '1'):\n",
    "            print('Se finaliza el proceso')\n",
    "            break\n",
    "    else:\n",
    "        primo = True\n",
    "    n += 1"
   ]
  },
  {
   "attachments": {},
   "cell_type": "markdown",
   "metadata": {},
   "source": [
    "14) Crear un ciclo while que encuentre dentro del rango de 100 a 300 el primer número divisible por 3 y además múltiplo de 6"
   ]
  },
  {
   "cell_type": "code",
   "execution_count": 9,
   "metadata": {},
   "outputs": [
    {
     "name": "stdout",
     "output_type": "stream",
     "text": [
      "102\n"
     ]
    }
   ],
   "source": [
    "var18 = 100\n",
    "while (var18 <= 300):\n",
    "    if ((var18 % 3 == 0) and (var18 % 6 == 0)):\n",
    "        print(var18)\n",
    "        break       \n",
    "    var18 += 1 "
   ]
  }
 ],
 "metadata": {
  "interpreter": {
   "hash": "c85384e4cb51c8b72350f3a8712cc8351fdc3955e32a27f9b60c6242ab125f01"
  },
  "kernelspec": {
   "display_name": "Python 3 (ipykernel)",
   "language": "python",
   "name": "python3"
  },
  "language_info": {
   "codemirror_mode": {
    "name": "ipython",
    "version": 3
   },
   "file_extension": ".py",
   "mimetype": "text/x-python",
   "name": "python",
   "nbconvert_exporter": "python",
   "pygments_lexer": "ipython3",
   "version": "3.11.4"
  }
 },
 "nbformat": 4,
 "nbformat_minor": 4
}
