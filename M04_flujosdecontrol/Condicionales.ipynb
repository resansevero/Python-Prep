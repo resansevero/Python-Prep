{
 "cells": [
  {
   "cell_type": "code",
   "execution_count": 1,
   "metadata": {},
   "outputs": [
    {
     "name": "stdout",
     "output_type": "stream",
     "text": [
      "a es menor a b\n"
     ]
    }
   ],
   "source": [
    "a = 2\n",
    "b = 10\n",
    "\n",
    "if a > b:\n",
    "    print(\"a es mayor a b\")\n",
    "elif a < b:\n",
    "    print(\"a es menor a b\")\n",
    "else:\n",
    "    print(\"a es igual a b\")"
   ]
  },
  {
   "cell_type": "code",
   "execution_count": 6,
   "metadata": {},
   "outputs": [
    {
     "name": "stdout",
     "output_type": "stream",
     "text": [
      "c es negativo\n"
     ]
    }
   ],
   "source": [
    "c = -2\n",
    "if c > 0:\n",
    "    print(\"c es positivo\")\n",
    "elif c < 0:\n",
    "    print(\"c es negativo\")\n",
    "else:\n",
    "    print(\"c es 0\")"
   ]
  },
  {
   "cell_type": "code",
   "execution_count": 4,
   "metadata": {},
   "outputs": [
    {
     "name": "stdout",
     "output_type": "stream",
     "text": [
      "Soy mayor que 5\n"
     ]
    }
   ],
   "source": [
    "d = 7\n",
    "if d > 10:\n",
    "    print(\"Soy mayor que 10\")\n",
    "elif d > 5:\n",
    "    print(\"Soy mayor que 5\")\n",
    "else:\n",
    "    print(\"Soy menor\")\n"
   ]
  }
 ],
 "metadata": {
  "kernelspec": {
   "display_name": "Python 3",
   "language": "python",
   "name": "python3"
  },
  "language_info": {
   "codemirror_mode": {
    "name": "ipython",
    "version": 3
   },
   "file_extension": ".py",
   "mimetype": "text/x-python",
   "name": "python",
   "nbconvert_exporter": "python",
   "pygments_lexer": "ipython3",
   "version": "3.11.4"
  },
  "orig_nbformat": 4
 },
 "nbformat": 4,
 "nbformat_minor": 2
}
